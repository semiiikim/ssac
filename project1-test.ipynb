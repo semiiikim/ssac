{
 "metadata": {
  "language_info": {
   "codemirror_mode": {
    "name": "ipython",
    "version": 3
   },
   "file_extension": ".py",
   "mimetype": "text/x-python",
   "name": "python",
   "nbconvert_exporter": "python",
   "pygments_lexer": "ipython3",
   "version": "3.9.0-final"
  },
  "orig_nbformat": 2,
  "kernelspec": {
   "name": "python3",
   "display_name": "Python 3",
   "language": "python"
  }
 },
 "nbformat": 4,
 "nbformat_minor": 2,
 "cells": [
  {
   "cell_type": "code",
   "execution_count": 3,
   "metadata": {},
   "outputs": [],
   "source": [
    "import requests\n",
    "\n",
    "url = 'http://apis.data.go.kr/B552061/lgStat/getRestLgStat'\n",
    "api_key = 'LvuXwI6UbKdRtmUOzNgh2wm5Oa9ZTZ9nu893JMvC%2B4J8VCN%2Bup6iQFXVMW7itIukPeoQyE4nrq9swyKay%2Btw7g%3D%3D'\n",
    "\n",
    "qs = 'serviceKey={0}&searchYearCd={1}&siDo={2}&guGun={3}&type={4}&numOfRows={5}&pageNo={6}'.format(api_key, '2015', '1100', '','xml', 340,1)\n",
    "\n",
    "response = requests.get(url + \"?\" + qs)"
   ]
  },
  {
   "cell_type": "code",
   "execution_count": 1,
   "metadata": {},
   "outputs": [],
   "source": [
    "# response.content\n",
    "# ! pip install xmltodict"
   ]
  },
  {
   "cell_type": "code",
   "execution_count": 2,
   "metadata": {},
   "outputs": [],
   "source": [
    "import xmltodict\n",
    "import json"
   ]
  },
  {
   "cell_type": "code",
   "execution_count": 4,
   "metadata": {},
   "outputs": [],
   "source": [
    "response_dict = xmltodict.parse(response.content)"
   ]
  },
  {
   "cell_type": "code",
   "execution_count": 5,
   "metadata": {},
   "outputs": [],
   "source": [
    "# response_dict"
   ]
  },
  {
   "cell_type": "code",
   "execution_count": 6,
   "metadata": {},
   "outputs": [],
   "source": [
    "response_json=json.dumps(response_dict, ensure_ascii=False)"
   ]
  },
  {
   "cell_type": "code",
   "execution_count": 7,
   "metadata": {},
   "outputs": [],
   "source": [
    "# response_json"
   ]
  },
  {
   "cell_type": "code",
   "execution_count": 8,
   "metadata": {},
   "outputs": [],
   "source": [
    "response_dict2 = json.loads(response_json)"
   ]
  },
  {
   "cell_type": "code",
   "execution_count": 10,
   "metadata": {},
   "outputs": [],
   "source": [
    "# response_dict2"
   ]
  },
  {
   "cell_type": "code",
   "execution_count": 11,
   "metadata": {},
   "outputs": [
    {
     "output_type": "execute_result",
     "data": {
      "text/plain": [
       "dict"
      ]
     },
     "metadata": {},
     "execution_count": 11
    }
   ],
   "source": [
    "type(response_dict2)"
   ]
  },
  {
   "cell_type": "code",
   "execution_count": 12,
   "metadata": {},
   "outputs": [],
   "source": [
    "# response_dict2\n",
    "# response_dict2.keys()\n",
    "# response_dict2['response'].keys()\n",
    "# response_dict2['response']['body'].keys()\n",
    "# response_dict2['response']['body']['items'].keys()\n",
    "# response_dict2['response']['body']['items']['item']\n",
    "values = response_dict2['response']['body']['items']['item']"
   ]
  },
  {
   "cell_type": "code",
   "execution_count": 13,
   "metadata": {},
   "outputs": [
    {
     "output_type": "stream",
     "name": "stdout",
     "text": [
      "310\n"
     ]
    },
    {
     "output_type": "execute_result",
     "data": {
      "text/plain": [
       "{'std_year': '2015',\n",
       " 'acc_cl_nm': '어린이사고',\n",
       " 'sido_sgg_nm': '서울특별시',\n",
       " 'acc_cnt': '1619',\n",
       " 'acc_cnt_cmrt': '13.28',\n",
       " 'dth_dnv_cnt': '6',\n",
       " 'dth_dnv_cnt_cmrt': '9.23',\n",
       " 'ftlt_rate': '0.37',\n",
       " 'injpsn_cnt': '1865',\n",
       " 'injpsn_cnt_cmrt': '12.41',\n",
       " 'tot_acc_cnt': '12191',\n",
       " 'tot_dth_dnv_cnt': '65',\n",
       " 'tot_injpsn_cnt': '15034'}"
      ]
     },
     "metadata": {},
     "execution_count": 13
    }
   ],
   "source": [
    "# print(type(values))\n",
    "print(len(values))\n",
    "\n",
    "# 응답 데이터 구성\n",
    "values[1]"
   ]
  },
  {
   "cell_type": "code",
   "execution_count": 204,
   "metadata": {},
   "outputs": [],
   "source": [
    "# 테이블 구현\n",
    "# CREATE TABLE `car_accident` (\n",
    "# \t`year`               INT         NOT NULL COMMENT '기준년도', -- 기준년도\n",
    "# \t`acc_name`           VARCHAR(30) NOT NULL COMMENT '사고명', -- 사고명\n",
    "# \t`local`             VARCHAR(30) NOT NULL COMMENT '지역명', -- 지역명\n",
    "# \t`acc_count`         INT         NOT NULL COMMENT '사고건수', -- 사고건수\n",
    "# \t`acc_count_ratio`    FLOAT       NOT NULL COMMENT '사건건수구성', -- 사건건수구성\n",
    "# \t`death_count`        INT         NOT NULL COMMENT '사망자수', -- 사망자수\n",
    "# \t`death_count_ratio`  FLOAT       NOT NULL COMMENT '사망자수구성비', -- 사망자수구성비\n",
    "# \t`fatality_rate`      FLOAT       NOT NULL COMMENT '치사율', -- 치사율\n",
    "# \t`injury_count`       INT         NOT NULL COMMENT '부상자수', -- 부상자수\n",
    "# \t`injury_count_ratio` FLOAT       NOT NULL COMMENT '부상자수구성비', -- 부상자수구성비\n",
    "# \t`total_count`        INT         NOT NULL COMMENT '총사건건수', -- 총사건건수\n",
    "# \t`total_death_count`  INT         NOT NULL COMMENT '총사망자수', -- 총사망자수\n",
    "# \t`total_injury_count` INT         NOT NULL COMMENT '총부상자수' -- 총부상자수\n",
    "# );"
   ]
  },
  {
   "cell_type": "code",
   "execution_count": 205,
   "metadata": {},
   "outputs": [
    {
     "output_type": "stream",
     "name": "stdout",
     "text": [
      "{'std_year': 'year', 'acc_cl_nm': 'acc_name', 'sido_sgg_nm': 'local', 'acc_cnt': 'acc_count', 'acc_cnt_cmrt': 'acc_count_ratio', 'dth_dnv_cnt': 'death_count', 'dth_dnv_cnt_cmrt': 'death_count_ratio', 'ftlt_rate': 'fatality_rate', 'injpsn_cnt': 'injury_count', 'injpsn_cnt_cmrt': 'injury_count_ratio', 'tot_acc_cnt': 'total_count', 'tot_dth_dnv_cnt': 'total_death_count', 'tot_injpsn_cnt': 'total_injury_count'}\n{'year': 'std_year', 'acc_name': 'acc_cl_nm', 'local': 'sido_sgg_nm', 'acc_count': 'acc_cnt', 'acc_count_ratio': 'acc_cnt_cmrt', 'death_count': 'dth_dnv_cnt', 'death_count_ratio': 'dth_dnv_cnt_cmrt', 'fatality_rate': 'ftlt_rate', 'injury_count': 'injpsn_cnt', 'injury_count_ratio': 'injpsn_cnt_cmrt', 'total_count': 'tot_acc_cnt', 'total_death_count': 'tot_dth_dnv_cnt', 'total_injury_count': 'tot_injpsn_cnt'}\n"
     ]
    },
    {
     "output_type": "execute_result",
     "data": {
      "text/plain": [
       "(13, 13)"
      ]
     },
     "metadata": {},
     "execution_count": 205
    }
   ],
   "source": [
    "# 데이터베이스 저장 구현\n",
    "\n",
    "columns = ['year','acc_name','local','acc_count','acc_count_ratio','death_count','death_count_ratio','fatality_rate','injury_count','injury_count_ratio','total_count','total_death_count','total_injury_count']\n",
    "\n",
    "keys = ['std_year','acc_cl_nm','sido_sgg_nm', 'acc_cnt', 'acc_cnt_cmrt','dth_dnv_cnt','dth_dnv_cnt_cmrt', 'ftlt_rate', 'injpsn_cnt', 'injpsn_cnt_cmrt', 'tot_acc_cnt','tot_dth_dnv_cnt', 'tot_injpsn_cnt']\n",
    "\n",
    "key_column_map = {key:column for key, column in zip(keys,columns)}\n",
    "print(key_column_map)\n",
    "column_key_map = {column:key for key, column in zip(keys,columns)}\n",
    "print(column_key_map)\n",
    "\n",
    "len(keys), len(columns)"
   ]
  },
  {
   "cell_type": "code",
   "execution_count": 206,
   "metadata": {},
   "outputs": [],
   "source": [
    "import pymysql\n",
    "\n",
    "connection_info = {'host':'localhost','user':'root','password':'Pa$$w0rd','db':'dashboarddb','charset':'utf8'}\n",
    "\n",
    "conn = pymysql.connect(**connection_info)\n",
    "cusor = conn.cursor()\n",
    "\n",
    "for value in values:\n",
    "\n",
    "    sql = 'INSERT INTO CAR_ACCIDENT VALUES(%s, %s, %s, %s, %s, %s, %s, %s, %s, %s, %s, %s, %s)'\n",
    "    cusor.execute(sql, [ value[column_key_map[column]] for column in columns[0:] ])\n",
    "\n",
    "conn.commit()\n",
    "\n",
    "conn.close()"
   ]
  },
  {
   "cell_type": "code",
   "execution_count": null,
   "metadata": {},
   "outputs": [],
   "source": []
  },
  {
   "cell_type": "code",
   "execution_count": null,
   "metadata": {},
   "outputs": [],
   "source": []
  },
  {
   "cell_type": "code",
   "execution_count": null,
   "metadata": {},
   "outputs": [],
   "source": []
  }
 ]
}